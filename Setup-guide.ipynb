{
  "cells": [
    {
      "cell_type": "markdown",
      "metadata": {
        "id": "view-in-github",
        "colab_type": "text"
      },
      "source": [
        "<a href=\"https://colab.research.google.com/github/Josh-BI-UK/AiCore-Hangman/blob/main/Setup-guide.ipynb\" target=\"_parent\"><img src=\"https://colab.research.google.com/assets/colab-badge.svg\" alt=\"Open In Colab\"/></a>"
      ]
    },
    {
      "cell_type": "markdown",
      "metadata": {
        "id": "kfubBtFRz9Dt"
      },
      "source": [
        "## Setting up (Linux)\n",
        "You will set up everything you need to get started on your local Linux machine. To execute the commands below you will need to open the Linux command line."
      ]
    },
    {
      "cell_type": "markdown",
      "metadata": {
        "id": "7HPJvPVuz9Ep"
      },
      "source": [
        "### 1. Updating Linux\n",
        "First thing let's make sure our operating system is up to date."
      ]
    },
    {
      "cell_type": "code",
      "execution_count": null,
      "metadata": {
        "vscode": {
          "languageId": "shellscript"
        },
        "id": "KQrX3NOwz9Eu"
      },
      "outputs": [],
      "source": [
        "sudo apt-get update \n",
        "sudo apt-get upgrade -y"
      ]
    },
    {
      "cell_type": "markdown",
      "metadata": {
        "id": "Rf-7JIgFz9Ew"
      },
      "source": [
        "### 2. Installing miniconda\n",
        "Miniconda is mininimal installer for conda (an open source environment and package manager). It includes conda, Python, the packages they depend on and a small number of other useful packages."
      ]
    },
    {
      "cell_type": "code",
      "execution_count": null,
      "metadata": {
        "vscode": {
          "languageId": "shellscript"
        },
        "id": "qiEN_9u-z9Ex"
      },
      "outputs": [],
      "source": [
        "\n",
        "wget -q https://repo.anaconda.com/miniconda/Miniconda3-latest-Linux-x86_64.sh -O /tmp/miniconda.sh \n",
        "sudo bash /tmp/miniconda.sh -b -p $HOME/miniconda \n",
        "sudo ~/miniconda/bin/conda init"
      ]
    },
    {
      "cell_type": "markdown",
      "metadata": {
        "id": "GwVx50lMz9Ex"
      },
      "source": [
        "After running the last command, you should see a similar message in your terminal. Now is time to close the current terminal and open a new one, in order for the changes to take place."
      ]
    },
    {
      "cell_type": "markdown",
      "metadata": {
        "id": "h61G_o-vz9Ex"
      },
      "source": [
        "![alt text](Linux1.png \"Terminal output\")"
      ]
    },
    {
      "cell_type": "markdown",
      "metadata": {
        "id": "KfhArJx3z9E4"
      },
      "source": [
        "### 3. Installing Python"
      ]
    },
    {
      "cell_type": "code",
      "execution_count": null,
      "metadata": {
        "vscode": {
          "languageId": "shellscript"
        },
        "id": "GOjQYbM0z9E5"
      },
      "outputs": [],
      "source": [
        "sudo apt install python3-pip"
      ]
    },
    {
      "cell_type": "markdown",
      "metadata": {
        "id": "lhnebYuwz9E5"
      },
      "source": [
        "A message similar to the one before will pop up during Python installation. Make sure to press 'Y' when the 'Do you want to continue?' question comes up."
      ]
    },
    {
      "cell_type": "markdown",
      "metadata": {
        "id": "amIRKbZMz9E6"
      },
      "source": [
        "![alt text](Linux2.png \"Terminal Python output\")"
      ]
    },
    {
      "cell_type": "markdown",
      "metadata": {
        "id": "U6IeqdCpz9E8"
      },
      "source": [
        "### 4. Installing VS Code\n",
        "Visual Studio Code is a free source code editor that fully supports Python and has useful features such as support for debugging, syntax highlighthing, etc."
      ]
    },
    {
      "cell_type": "code",
      "execution_count": null,
      "metadata": {
        "vscode": {
          "languageId": "shellscript"
        },
        "id": "bKLs22K_z9E9"
      },
      "outputs": [],
      "source": [
        "sudo snap refresh \n",
        "sudo snap remove code \n",
        "sudo snap install code --classic "
      ]
    },
    {
      "cell_type": "markdown",
      "metadata": {
        "id": "hVF50Ay0z9E9"
      },
      "source": [
        "Now we should have successfully installed Visual Studio Code on your local machine. Let's open it up, just as show in the picture below"
      ]
    },
    {
      "cell_type": "markdown",
      "metadata": {
        "id": "WlIgT8A1z9E-"
      },
      "source": [
        "![alt text](Linux3.png \"Open VSCode\")"
      ]
    },
    {
      "cell_type": "markdown",
      "metadata": {
        "id": "GlcyOaXZz9E-"
      },
      "source": [
        "### 4. Installing VS Code extensions"
      ]
    },
    {
      "cell_type": "markdown",
      "metadata": {
        "id": "u2uVjh3Vz9E-"
      },
      "source": [
        "Finally, we are going to install some important VS Code extensions such as Python and Jupyter Notebook, an extension that provides an interactive way of running Python code. To install any extension we need to click on 'Extensions' as shown below"
      ]
    },
    {
      "cell_type": "markdown",
      "metadata": {
        "id": "O4JSHtfsz9E-"
      },
      "source": [
        "![alt text](Linux4.png \"Terminal Python output\")"
      ]
    },
    {
      "cell_type": "markdown",
      "metadata": {
        "id": "kKL0B_l-z9E_"
      },
      "source": [
        "And from the menu, we will install Python and Jupyter."
      ]
    },
    {
      "cell_type": "markdown",
      "metadata": {
        "id": "oY5E6-ITz9E_"
      },
      "source": [
        "![alt text](Linux5.png \"Terminal Python output\")"
      ]
    },
    {
      "cell_type": "markdown",
      "metadata": {
        "id": "nLeqS3pnz9E_"
      },
      "source": [
        "## Setting up (MacOS)\n",
        "You will set up everything you need to get started on your local MacOS machine. To execute the commands below you will need to open a terminal. On Mac, you can find this by simply typing terminal in your Spotlight Search."
      ]
    },
    {
      "cell_type": "markdown",
      "metadata": {
        "id": "s-s4BVyFz9FA"
      },
      "source": [
        "### 1. Installing Homebrew\n",
        "Homebrew is a free and open-source software package management system that simplifies the installation of software on Apple's operating system, macOS."
      ]
    },
    {
      "cell_type": "code",
      "execution_count": null,
      "metadata": {
        "vscode": {
          "languageId": "shellscript"
        },
        "id": "OptgOZg9z9FA"
      },
      "outputs": [],
      "source": [
        "sudo /bin/bash -c \"$(curl -fsSL https://raw.githubusercontent.com/Homebrew/install/HEAD/install.sh)\""
      ]
    },
    {
      "cell_type": "markdown",
      "metadata": {
        "id": "l4HVkTFrz9FA"
      },
      "source": [
        "When you are installing Homebrew, you will get the following message in your terminal:"
      ]
    },
    {
      "cell_type": "markdown",
      "metadata": {
        "id": "JiXBGSA0z9FA"
      },
      "source": [
        "![alt text](Mac1.png \"Terminal Python output\")"
      ]
    },
    {
      "cell_type": "markdown",
      "metadata": {
        "id": "U6wpVr1xz9FA"
      },
      "source": [
        "Make sure to press ENTER to continue the installation."
      ]
    },
    {
      "cell_type": "markdown",
      "metadata": {
        "id": "t9t1kc6Vz9FB"
      },
      "source": [
        "### 2. Installing miniconda\n",
        "Miniconda is mininimal installer for conda (an open source environment and package manager). It includes conda, Python, the packages they depend on and a small number of other useful packages."
      ]
    },
    {
      "cell_type": "code",
      "execution_count": null,
      "metadata": {
        "vscode": {
          "languageId": "shellscript"
        },
        "id": "_eRmG6Raz9FB"
      },
      "outputs": [],
      "source": [
        "\n",
        "curl -o /tmp/miniconda.sh https://repo.anaconda.com/miniconda/Miniconda3-latest-MacOSX-x86_64.sh \n",
        "sudo bash /tmp/miniconda.sh -b -p $HOME/miniconda \n",
        "sudo ~/miniconda/bin/conda init zsh"
      ]
    },
    {
      "cell_type": "markdown",
      "metadata": {
        "id": "fZwqPiGFz9FB"
      },
      "source": [
        "Once installation is finished, you should see a message similar to the one below. Now is the time to close your terminal and open a new one, in order for the changes to take place."
      ]
    },
    {
      "cell_type": "markdown",
      "metadata": {
        "id": "76H3bYTCz9FB"
      },
      "source": [
        "![alt text](Mac2.png \"Terminal Python output\")"
      ]
    },
    {
      "cell_type": "markdown",
      "metadata": {
        "id": "fttYHTYEz9FB"
      },
      "source": [
        "### 3. Installing Python\n",
        "Python is a high-level general-purpose programming language and is going to be language of choice for the programme."
      ]
    },
    {
      "cell_type": "code",
      "execution_count": null,
      "metadata": {
        "vscode": {
          "languageId": "shellscript"
        },
        "id": "80xoFV4Iz9FB"
      },
      "outputs": [],
      "source": [
        "brew install python"
      ]
    },
    {
      "cell_type": "markdown",
      "metadata": {
        "id": "tElE7DIfz9FC"
      },
      "source": [
        "### 4. Installing VS Code\n",
        "Visual Studio Code is a free source code editor that fully supports Python and has useful features such as support for debugging, syntax highlighthing, etc."
      ]
    },
    {
      "cell_type": "code",
      "execution_count": null,
      "metadata": {
        "vscode": {
          "languageId": "shellscript"
        },
        "id": "T_blYQ5pz9FC"
      },
      "outputs": [],
      "source": [
        "brew install --cask visual-studio-code"
      ]
    },
    {
      "cell_type": "markdown",
      "metadata": {
        "id": "SOWuN7Cpz9FC"
      },
      "source": [
        "Once the installation is done, you should be able to find your VS Code in your Spotlight Search."
      ]
    },
    {
      "cell_type": "markdown",
      "metadata": {
        "id": "kPHWr2Rzz9FC"
      },
      "source": [
        "![alt text](Mac3.png \"Terminal Python output\")"
      ]
    },
    {
      "cell_type": "markdown",
      "metadata": {
        "id": "iQzWiJ0Iz9FE"
      },
      "source": [
        "### 5. Installing VS Code extensions"
      ]
    },
    {
      "cell_type": "markdown",
      "metadata": {
        "id": "NSD_k9bJz9FE"
      },
      "source": [
        "Please follow the same instructions from step 4 Linux installation."
      ]
    },
    {
      "cell_type": "markdown",
      "metadata": {
        "id": "n-zdmNNZz9FF"
      },
      "source": [
        "## Setting up (Windows)\n",
        "You will set up everything you need to get started on your local Windows machine. "
      ]
    },
    {
      "cell_type": "markdown",
      "metadata": {
        "id": "EmTIuU13z9FF"
      },
      "source": [
        "### 1. Preparing to install your environment\n",
        "To execute the commands below you will need to open the PowerShell. Before running the commands below, you will need to run \"Set-ExecutionPolicy unrestricted -Scope LocalMachine\" in powershell with adminsitrator privileges. You should see the following output in your PowerShell:"
      ]
    },
    {
      "cell_type": "markdown",
      "metadata": {
        "id": "fFZBMKK2z9FF"
      },
      "source": [
        "![alt text](Windows1.png \"Terminal Python output\")"
      ]
    },
    {
      "cell_type": "markdown",
      "metadata": {
        "id": "U0_evArjz9FF"
      },
      "source": [
        "Make sure to type in 'y' and press Enter to continue, and then run the two following lines:"
      ]
    },
    {
      "cell_type": "code",
      "execution_count": null,
      "metadata": {
        "vscode": {
          "languageId": "shellscript"
        },
        "id": "bhVAaxbpz9FG"
      },
      "outputs": [],
      "source": [
        "$UserProfile = $env:USERPROFILE\n",
        "New-Item -ErrorAction Ignore -ItemType Directory -Path C:\\temp "
      ]
    },
    {
      "cell_type": "markdown",
      "metadata": {
        "id": "WM1P8CTXz9FG"
      },
      "source": [
        "### 2. Downloading & installing Git Bash\n",
        "Git Bash is an application that provides Git command line experience for Microsoft Windows environments."
      ]
    },
    {
      "cell_type": "code",
      "execution_count": null,
      "metadata": {
        "vscode": {
          "languageId": "shellscript"
        },
        "id": "sHVAIyS0z9FG"
      },
      "outputs": [],
      "source": [
        "Invoke-RestMethod -Uri \"https://github.com/git-for-windows/git/releases/download/v2.37.0.windows.1/Git-2.37.0-64-bit.exe\" -OutFile \"C:\\temp\\Git-2.37.0-64-bit.exe\" \n",
        "Start-Process -FilePath C:\\temp\\Git-2.37.0-64-bit.exe -Wait -ArgumentList \"/NORESTART /VERYSILENT\" "
      ]
    },
    {
      "cell_type": "markdown",
      "metadata": {
        "id": "eKEGJPUpz9FG"
      },
      "source": [
        "### 3. Downloading and installing miniconda3\n",
        "Miniconda is mininimal installer for conda (an open source environment and package manager). It includes conda, Python, the packages they depend on and a small number of other useful packages."
      ]
    },
    {
      "cell_type": "code",
      "execution_count": null,
      "metadata": {
        "vscode": {
          "languageId": "shellscript"
        },
        "id": "YGBcOYF_z9FG"
      },
      "outputs": [],
      "source": [
        "Invoke-RestMethod -Uri \"https://repo.anaconda.com/miniconda/Miniconda3-latest-Windows-x86_64.exe\" -OutFile  \"C:\\temp\\Miniconda3-latest-Windows-x86_64.exe\"\n",
        "Remove-Item -Recurse -ErrorAction Ignore \"$UserProfile\\Miniconda3\"\n",
        "Start-Process -FilePath C:\\temp\\Miniconda3-latest-Windows-x86_64.exe `\n",
        "-Wait -ArgumentList @(\"/S\", \"/InstallationType=AllUsers\", \"/RegisterPython=1\", \"/AddToPath=1\", \"/D=$UserProfile\\Miniconda3\")"
      ]
    },
    {
      "cell_type": "markdown",
      "metadata": {
        "id": "PwRhRDzTz9FH"
      },
      "source": [
        "### 4. Activating miniconda\n",
        "To activate Miniconda run the following commands:"
      ]
    },
    {
      "cell_type": "code",
      "execution_count": null,
      "metadata": {
        "vscode": {
          "languageId": "shellscript"
        },
        "id": "XSarCPy_z9FH"
      },
      "outputs": [],
      "source": [
        "Start-Process -FilePath $UserProfile\\Miniconda3\\condabin\\activate.bat -Wait \n",
        "Start-Process -FilePath $UserProfile\\Miniconda3\\condabin\\conda.bat -Wait -ArgumentList @(\"init powershell\")\n",
        "Write-Output \". '$UserProfile\\Miniconda3\\etc\\profile.d\\conda.sh'\" | Out-File -Encoding Ascii -FilePath ~/.bashrc "
      ]
    },
    {
      "cell_type": "markdown",
      "metadata": {
        "id": "UtXj8mFzz9FH"
      },
      "source": [
        "You should now see 'base' appearing in your terminal, before you machine name, just as in the picture below:"
      ]
    },
    {
      "cell_type": "markdown",
      "metadata": {
        "id": "avqUZqOIz9FH"
      },
      "source": [
        "![alt text](Windows2.png \"Terminal Python output\")"
      ]
    },
    {
      "cell_type": "markdown",
      "metadata": {
        "id": "vLc01YJQz9FH"
      },
      "source": [
        "Now is the time to close your PoweShell and open a new one, in order for the changes to take place."
      ]
    },
    {
      "cell_type": "markdown",
      "metadata": {
        "id": "CDqFMXlMz9FH"
      },
      "source": [
        "### 5. Downloading and installing VS Code\n",
        "Visual Studio Code is a free source code editor that fully supports Python and has useful features such as support for debugging, syntax highlighthing, etc."
      ]
    },
    {
      "cell_type": "code",
      "execution_count": null,
      "metadata": {
        "vscode": {
          "languageId": "shellscript"
        },
        "id": "itkU8Q86z9FJ"
      },
      "outputs": [],
      "source": [
        "Invoke-RestMethod -Uri \"https://code.visualstudio.com/sha/download?build=stable&os=win32-x64\" -OutFile \"C:\\temp\\VS_Code.exe\" \n",
        "Start-Process -FilePath C:\\temp\\VS_Code.exe -Wait -ArgumentList \"/NORESTART /VERYSILENT /MERGETASKS=!runcode\" "
      ]
    },
    {
      "cell_type": "markdown",
      "metadata": {
        "id": "bvziJO2Fz9FK"
      },
      "source": [
        "Once the installation has finished, you should be able to find Visual Studio Code in your applications and open it."
      ]
    },
    {
      "cell_type": "markdown",
      "metadata": {
        "id": "W4ZsLp3Oz9FK"
      },
      "source": [
        "### 6. Installing VS Code extensions"
      ]
    },
    {
      "cell_type": "markdown",
      "metadata": {
        "id": "7XxIlJWZz9FK"
      },
      "source": [
        "Please follow the same instructions from step 4 Linux installation."
      ]
    }
  ],
  "metadata": {
    "interpreter": {
      "hash": "09d8601da2aa4dd73cc7e9c40ea3f7292d3d22be5aed83dc35ceaff56697c175"
    },
    "kernelspec": {
      "display_name": "Python 3.9.7 ('base')",
      "language": "python",
      "name": "python3"
    },
    "language_info": {
      "name": "python",
      "version": "3.9.7"
    },
    "orig_nbformat": 4,
    "colab": {
      "provenance": [],
      "include_colab_link": true
    }
  },
  "nbformat": 4,
  "nbformat_minor": 0
}