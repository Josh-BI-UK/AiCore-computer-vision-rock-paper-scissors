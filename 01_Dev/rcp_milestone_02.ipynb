{
 "cells": [
  {
   "attachments": {},
   "cell_type": "markdown",
   "metadata": {},
   "source": [
    "<font size = 3> AiCore Project </font><br> \n",
    "<font size = 2> Python coding project by: [Joshua Payne](https://github.com/Josh-BI-UK) </font>\n",
    "\n",
    "# Computer Vision Rock Paper Scissors (RPC) - Milestone 2\n",
    "The class is already prepared. Now the game starts\n",
    "<br> ---<br>\n",
    "<font size=1><b>\n",
    "Denotes:<br><i>\n",
    "[✔︎] = completed task.<br> \n",
    "[ ] = uncompleted task.\n",
    "</b></i></font>\n",
    "<br> ---<br>"
   ]
  },
  {
   "attachments": {},
   "cell_type": "markdown",
   "metadata": {},
   "source": [
    "Go to Teachable-Machine  to start creating the model. Each class is trained with images of yourself showing each option to the camera. The \"Nothing\" class represents the lack of option in the image. Remember that the more images you train with, the more accurate the model will be\n",
    "\n",
    "Milestone 1: Set-up the environment\n",
    "Milestone 2: Create the computer vision system:\n",
    "\n",
    "The first task consists of creating a computer vision system - also known as a model - that detects whether the user is showing Rock, Paper, or Scissors to the camera.\n",
    "\n",
    "Task 1: Create an image project model with four different classes: Rock, Paper, Scissors, Nothing\n",
    "\n",
    "\n",
    "Task 2: Download the model\n",
    "Download the model from the \"Tensorflow\" tab in Teachable-Machine. \n",
    "The model should be named 'keras_model.h5' and the text file containing the labels should be named 'labels.txt'.\n",
    "\n",
    "The files you are downloading contain the structure and the parameters of a deep learning model.  They are not files that can be run, and they do not contain anything readable if you look inside. Later, you will load them into your Python application in the next milestone. Make sure you push the model and labels to your GitHub repository after committing.\n",
    "\n",
    "00_Template\n",
    "01_Dev\n",
    "02_Test\n",
    "03_Solution"
   ]
  }
 ],
 "metadata": {
  "kernelspec": {
   "display_name": "Python 3",
   "language": "python",
   "name": "python3"
  },
  "language_info": {
   "name": "python",
   "version": "3.9.13 (main, Aug 25 2022, 18:29:29) \n[Clang 12.0.0 ]"
  },
  "orig_nbformat": 4,
  "vscode": {
   "interpreter": {
    "hash": "1c63fc448cbcef6ea75575590d1315f3aed7a7d40ffa8180ee43b982def9dff1"
   }
  }
 },
 "nbformat": 4,
 "nbformat_minor": 2
}
